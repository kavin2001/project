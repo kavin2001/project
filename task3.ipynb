{
 "cells": [
  {
   "cell_type": "markdown",
   "id": "1df29eda",
   "metadata": {
    "id": "1df29eda"
   },
   "source": [
    "Step 0. Unzip enron1.zip into the current directory."
   ]
  },
  {
   "cell_type": "markdown",
   "id": "bf32cfce",
   "metadata": {
    "id": "bf32cfce"
   },
   "source": [
    "Step 1. Traverse the dataset and create a Pandas dataframe. This is already done for you and should run without any errors. You should recognize Pandas from task 1."
   ]
  },
  {
   "cell_type": "code",
   "execution_count": 85,
   "id": "b4b6fdc6-d379-4375-b579-c75ac65f940c",
   "metadata": {},
   "outputs": [],
   "source": [
    "import pandas as pd\n",
    "import os\n",
    "import re\n",
    "from sklearn.feature_extraction.text import CountVectorizer, TfidfVectorizer\n",
    "from sklearn.model_selection import train_test_split\n",
    "from sklearn.linear_model import LogisticRegression\n",
    "from sklearn.metrics import accuracy_score, confusion_matrix, classification_report\n",
    "\n",
    "# The CountVectorizer converts a text sample into a vector (think of it as an array of floats).\n",
    "# Each entry in the vector corresponds to a single word and the value is the number of times the word appeared.\n",
    "# Instantiate a CountVectorizer. Make sure to include the preprocessor you previously wrote in the constructor.\n",
    "# TODO\n",
    "\n",
    "\n",
    "# Use train_test_split to split the dataset into a train dataset and a test dataset.\n",
    "# The machine learning model learns from the train dataset.\n",
    "# Then the trained model is tested on the test dataset to see if it actually learned anything.\n",
    "# If it just memorized for example, then it would have a low accuracy on the test dataset and a high accuracy on the train dataset.\n",
    "# TODO\n",
    "\n",
    "\n",
    "# Use the vectorizer to transform the existing dataset into a form in which the model can learn from.\n",
    "# Remember that simple machine learning models operate on numbers, which the CountVectorizer conveniently helped us do.\n",
    "# TODO\n",
    "\n",
    "\n",
    "# Use the LogisticRegression model to fit to the train dataset.\n",
    "# You may remember y = mx + b and Linear Regression from high school. Here, we fitted a scatter plot to a line.\n",
    "# Logistic Regression is another form of regression. \n",
    "# However, Logistic Regression helps us determine if a point should be in category A or B, which is a perfect fit.\n",
    "# TODO\n",
    "\n",
    "\n",
    "# Validate that the model has learned something.\n",
    "# Recall the model operates on vectors. First transform the test set using the vectorizer. \n",
    "# Then generate the predictions.\n",
    "# TODO\n",
    "\n",
    "\n",
    "# We now want to see how we have done. We will be using three functions.\n",
    "# `accuracy_score` tells us how well we have done. \n",
    "# 90% means that every 9 of 10 entries from the test dataset were predicted accurately.\n",
    "# The `confusion_matrix` is a 2x2 matrix that gives us more insight.\n",
    "# The top left shows us how many ham emails were predicted to be ham (that's good!).\n",
    "# The bottom right shows us how many spam emails were predicted to be spam (that's good!).\n",
    "# The other two quadrants tell us the misclassifications.\n",
    "# Finally, the `classification_report` gives us detailed statistics which you may have seen in a statistics class.\n",
    "# TODO\n"
   ]
  },
  {
   "cell_type": "code",
   "execution_count": 86,
   "id": "71a29e09-1004-4860-aa10-2504f22b3b93",
   "metadata": {},
   "outputs": [
    {
     "name": "stdout",
     "output_type": "stream",
     "text": [
      "                             name  \\\n",
      "0  0002.1999-12-13.farmer.ham.txt   \n",
      "1  0001.1999-12-10.farmer.ham.txt   \n",
      "2  0007.1999-12-14.farmer.ham.txt   \n",
      "3  0003.1999-12-14.farmer.ham.txt   \n",
      "4  0004.1999-12-14.farmer.ham.txt   \n",
      "\n",
      "                                             content category  \n",
      "0  Subject: vastar resources , inc .\\ngary , prod...      ham  \n",
      "1            Subject: christmas tree farm pictures\\n      ham  \n",
      "2  Subject: mcmullen gas for 11 / 99\\njackie ,\\ns...      ham  \n",
      "3  Subject: calpine daily gas nomination\\n- calpi...      ham  \n",
      "4  Subject: re : issue\\nfyi - see note below - al...      ham  \n"
     ]
    }
   ],
   "source": [
    "print(df.head())"
   ]
  },
  {
   "cell_type": "code",
   "execution_count": 87,
   "id": "20c5d195",
   "metadata": {
    "id": "20c5d195"
   },
   "outputs": [
    {
     "name": "stderr",
     "output_type": "stream",
     "text": [
      "/tmp/ipykernel_86/1906134361.py:28: FutureWarning: The frame.append method is deprecated and will be removed from pandas in a future version. Use pandas.concat instead.\n",
      "  df = df.append(pd.DataFrame.from_records(spam))\n"
     ]
    }
   ],
   "source": [
    "def read_spam():\n",
    "    category = 'spam'\n",
    "    directory = './enron1/spam'\n",
    "    return read_category(category, directory)\n",
    "\n",
    "def read_ham():\n",
    "    category = 'ham'\n",
    "    directory = './enron1/ham'\n",
    "    return read_category(category, directory)\n",
    "\n",
    "def read_category(category, directory):\n",
    "    emails = []\n",
    "    for filename in os.listdir(directory):\n",
    "        if not filename.endswith(\".txt\"):\n",
    "            continue\n",
    "        with open(os.path.join(directory, filename), 'r') as fp:\n",
    "            try:\n",
    "                content = fp.read()\n",
    "                emails.append({'name': filename, 'content': content, 'category': category})\n",
    "            except:\n",
    "                print(f'skipped {filename}')\n",
    "    return emails\n",
    "\n",
    "ham = read_ham()\n",
    "spam = read_spam()\n",
    "\n",
    "df = pd.DataFrame.from_records(ham)\n",
    "df = df.append(pd.DataFrame.from_records(spam))"
   ]
  },
  {
   "cell_type": "markdown",
   "id": "1a1c23fd",
   "metadata": {
    "id": "1a1c23fd"
   },
   "source": [
    "Step 2. Data cleaning is a critical part of machine learning. You and I can recognize that 'Hello' and 'hello' are the same word but a machine does not know this a priori. Therefore, we can 'help' the machine by conducting such normalization steps for it. Write a function `preprocessor` that takes in a string and replaces all non alphabet characters with a space and then lowercases the result."
   ]
  },
  {
   "cell_type": "code",
   "execution_count": 89,
   "id": "c447c901",
   "metadata": {
    "id": "c447c901"
   },
   "outputs": [],
   "source": [
    "def preprocessor(e):\n",
    "    pass"
   ]
  },
  {
   "cell_type": "markdown",
   "id": "ba32521d",
   "metadata": {
    "id": "ba32521d"
   },
   "source": [
    "Step 3. We will now train the machine learning model. All the functions that you will need are imported for you. The instructions explain how the work and hint at which functions to use. You will likely need to refer to the scikit learn documentation to see how exactly to invoke the functions. It will be handy to keep that tab open."
   ]
  },
  {
   "cell_type": "code",
   "execution_count": 91,
   "id": "05925c47-97c3-448f-aca1-da1fda870088",
   "metadata": {},
   "outputs": [],
   "source": [
    "data = df.where((pd.notnull(df)), '')"
   ]
  },
  {
   "cell_type": "code",
   "execution_count": 92,
   "id": "a5664508-d065-430f-b5bf-9c83419207b6",
   "metadata": {},
   "outputs": [
    {
     "data": {
      "text/html": [
       "<div>\n",
       "<style scoped>\n",
       "    .dataframe tbody tr th:only-of-type {\n",
       "        vertical-align: middle;\n",
       "    }\n",
       "\n",
       "    .dataframe tbody tr th {\n",
       "        vertical-align: top;\n",
       "    }\n",
       "\n",
       "    .dataframe thead th {\n",
       "        text-align: right;\n",
       "    }\n",
       "</style>\n",
       "<table border=\"1\" class=\"dataframe\">\n",
       "  <thead>\n",
       "    <tr style=\"text-align: right;\">\n",
       "      <th></th>\n",
       "      <th>name</th>\n",
       "      <th>content</th>\n",
       "      <th>category</th>\n",
       "    </tr>\n",
       "  </thead>\n",
       "  <tbody>\n",
       "    <tr>\n",
       "      <th>0</th>\n",
       "      <td>0002.1999-12-13.farmer.ham.txt</td>\n",
       "      <td>Subject: vastar resources , inc .\\ngary , prod...</td>\n",
       "      <td>ham</td>\n",
       "    </tr>\n",
       "    <tr>\n",
       "      <th>1</th>\n",
       "      <td>0001.1999-12-10.farmer.ham.txt</td>\n",
       "      <td>Subject: christmas tree farm pictures\\n</td>\n",
       "      <td>ham</td>\n",
       "    </tr>\n",
       "    <tr>\n",
       "      <th>2</th>\n",
       "      <td>0007.1999-12-14.farmer.ham.txt</td>\n",
       "      <td>Subject: mcmullen gas for 11 / 99\\njackie ,\\ns...</td>\n",
       "      <td>ham</td>\n",
       "    </tr>\n",
       "    <tr>\n",
       "      <th>3</th>\n",
       "      <td>0003.1999-12-14.farmer.ham.txt</td>\n",
       "      <td>Subject: calpine daily gas nomination\\n- calpi...</td>\n",
       "      <td>ham</td>\n",
       "    </tr>\n",
       "    <tr>\n",
       "      <th>4</th>\n",
       "      <td>0004.1999-12-14.farmer.ham.txt</td>\n",
       "      <td>Subject: re : issue\\nfyi - see note below - al...</td>\n",
       "      <td>ham</td>\n",
       "    </tr>\n",
       "    <tr>\n",
       "      <th>5</th>\n",
       "      <td>0005.1999-12-14.farmer.ham.txt</td>\n",
       "      <td>Subject: meter 7268 nov allocation\\nfyi .\\n- -...</td>\n",
       "      <td>ham</td>\n",
       "    </tr>\n",
       "    <tr>\n",
       "      <th>6</th>\n",
       "      <td>0009.1999-12-14.farmer.ham.txt</td>\n",
       "      <td>Subject: meter 1517 - jan 1999\\ngeorge ,\\ni ne...</td>\n",
       "      <td>ham</td>\n",
       "    </tr>\n",
       "    <tr>\n",
       "      <th>0</th>\n",
       "      <td>0006.2003-12-18.GP.spam.txt</td>\n",
       "      <td>Subject: dobmeos with hgh my energy level has ...</td>\n",
       "      <td>spam</td>\n",
       "    </tr>\n",
       "    <tr>\n",
       "      <th>1</th>\n",
       "      <td>0018.2003-12-18.GP.spam.txt</td>\n",
       "      <td>Subject: await your response\\ndear partner ,\\n...</td>\n",
       "      <td>spam</td>\n",
       "    </tr>\n",
       "    <tr>\n",
       "      <th>2</th>\n",
       "      <td>0008.2003-12-18.GP.spam.txt</td>\n",
       "      <td>Subject: your prescription is ready . . oxwq s...</td>\n",
       "      <td>spam</td>\n",
       "    </tr>\n",
       "  </tbody>\n",
       "</table>\n",
       "</div>"
      ],
      "text/plain": [
       "                             name  \\\n",
       "0  0002.1999-12-13.farmer.ham.txt   \n",
       "1  0001.1999-12-10.farmer.ham.txt   \n",
       "2  0007.1999-12-14.farmer.ham.txt   \n",
       "3  0003.1999-12-14.farmer.ham.txt   \n",
       "4  0004.1999-12-14.farmer.ham.txt   \n",
       "5  0005.1999-12-14.farmer.ham.txt   \n",
       "6  0009.1999-12-14.farmer.ham.txt   \n",
       "0     0006.2003-12-18.GP.spam.txt   \n",
       "1     0018.2003-12-18.GP.spam.txt   \n",
       "2     0008.2003-12-18.GP.spam.txt   \n",
       "\n",
       "                                             content category  \n",
       "0  Subject: vastar resources , inc .\\ngary , prod...      ham  \n",
       "1            Subject: christmas tree farm pictures\\n      ham  \n",
       "2  Subject: mcmullen gas for 11 / 99\\njackie ,\\ns...      ham  \n",
       "3  Subject: calpine daily gas nomination\\n- calpi...      ham  \n",
       "4  Subject: re : issue\\nfyi - see note below - al...      ham  \n",
       "5  Subject: meter 7268 nov allocation\\nfyi .\\n- -...      ham  \n",
       "6  Subject: meter 1517 - jan 1999\\ngeorge ,\\ni ne...      ham  \n",
       "0  Subject: dobmeos with hgh my energy level has ...     spam  \n",
       "1  Subject: await your response\\ndear partner ,\\n...     spam  \n",
       "2  Subject: your prescription is ready . . oxwq s...     spam  "
      ]
     },
     "execution_count": 92,
     "metadata": {},
     "output_type": "execute_result"
    }
   ],
   "source": [
    "data.head(10)"
   ]
  },
  {
   "cell_type": "code",
   "execution_count": 93,
   "id": "6f410b55-33a5-4825-8216-00ff71820f4b",
   "metadata": {},
   "outputs": [
    {
     "name": "stdout",
     "output_type": "stream",
     "text": [
      "<class 'pandas.core.frame.DataFrame'>\n",
      "Int64Index: 14 entries, 0 to 6\n",
      "Data columns (total 3 columns):\n",
      " #   Column    Non-Null Count  Dtype \n",
      "---  ------    --------------  ----- \n",
      " 0   name      14 non-null     object\n",
      " 1   content   14 non-null     object\n",
      " 2   category  14 non-null     object\n",
      "dtypes: object(3)\n",
      "memory usage: 448.0+ bytes\n"
     ]
    }
   ],
   "source": [
    "data.info()"
   ]
  },
  {
   "cell_type": "code",
   "execution_count": 94,
   "id": "44fa1af9-1eaa-4fcf-b54f-8fcc806cc1e2",
   "metadata": {},
   "outputs": [
    {
     "data": {
      "text/plain": [
       "(14, 3)"
      ]
     },
     "execution_count": 94,
     "metadata": {},
     "output_type": "execute_result"
    }
   ],
   "source": [
    "data.shape"
   ]
  },
  {
   "cell_type": "code",
   "execution_count": 95,
   "id": "d94ec905-b27f-48b5-b985-bc82b2f89d5c",
   "metadata": {},
   "outputs": [],
   "source": [
    "data.loc[data['category'] == 'spam', 'category'] = 0\n",
    "data.loc[data['category'] == 'ham', 'category'] = 1"
   ]
  },
  {
   "cell_type": "code",
   "execution_count": 96,
   "id": "2d10d497-3786-4bd2-9643-e06297454301",
   "metadata": {},
   "outputs": [],
   "source": [
    "X = data['content']\n",
    "Y = data['category']"
   ]
  },
  {
   "cell_type": "code",
   "execution_count": 97,
   "id": "f2c47ec4-0093-47ec-9fb8-66ce3eeab58c",
   "metadata": {},
   "outputs": [
    {
     "name": "stdout",
     "output_type": "stream",
     "text": [
      "0    Subject: vastar resources , inc .\\ngary , prod...\n",
      "1              Subject: christmas tree farm pictures\\n\n",
      "2    Subject: mcmullen gas for 11 / 99\\njackie ,\\ns...\n",
      "3    Subject: calpine daily gas nomination\\n- calpi...\n",
      "4    Subject: re : issue\\nfyi - see note below - al...\n",
      "5    Subject: meter 7268 nov allocation\\nfyi .\\n- -...\n",
      "6    Subject: meter 1517 - jan 1999\\ngeorge ,\\ni ne...\n",
      "0    Subject: dobmeos with hgh my energy level has ...\n",
      "1    Subject: await your response\\ndear partner ,\\n...\n",
      "2    Subject: your prescription is ready . . oxwq s...\n",
      "3    Subject: re : patchs work better then pillz\\nw...\n",
      "4    Subject: emerging small cap\\nto exit all addit...\n",
      "5    Subject: coca cola , mbna america , nascar par...\n",
      "6    Subject: get that new car 8434\\npeople nowthe ...\n",
      "Name: content, dtype: object\n"
     ]
    }
   ],
   "source": [
    "print(X)"
   ]
  },
  {
   "cell_type": "code",
   "execution_count": 98,
   "id": "360907a4-2827-4262-8b67-d10543ac3aea",
   "metadata": {},
   "outputs": [
    {
     "name": "stdout",
     "output_type": "stream",
     "text": [
      "0    1\n",
      "1    1\n",
      "2    1\n",
      "3    1\n",
      "4    1\n",
      "5    1\n",
      "6    1\n",
      "0    0\n",
      "1    0\n",
      "2    0\n",
      "3    0\n",
      "4    0\n",
      "5    0\n",
      "6    0\n",
      "Name: category, dtype: object\n"
     ]
    }
   ],
   "source": [
    "print(Y)"
   ]
  },
  {
   "cell_type": "code",
   "execution_count": 99,
   "id": "94fd539d-7e95-4fd4-b1d7-509301e3f29b",
   "metadata": {},
   "outputs": [],
   "source": [
    "X_train, X_test, Y_train, Y_test = train_test_split(X,Y, test_size=0.4, random_state = 3)"
   ]
  },
  {
   "cell_type": "code",
   "execution_count": 100,
   "id": "a67ab596-1808-4146-b0cb-59cdb3e0a402",
   "metadata": {},
   "outputs": [
    {
     "name": "stdout",
     "output_type": "stream",
     "text": [
      "(14,)\n",
      "(8,)\n",
      "(6,)\n"
     ]
    }
   ],
   "source": [
    "print(X.shape)\n",
    "print(X_train.shape)\n",
    "print(X_test.shape)"
   ]
  },
  {
   "cell_type": "code",
   "execution_count": 101,
   "id": "93e80b15-ce2e-4554-ba8a-7e6bae07ee02",
   "metadata": {},
   "outputs": [
    {
     "name": "stdout",
     "output_type": "stream",
     "text": [
      "(14,)\n",
      "(8,)\n",
      "(6,)\n"
     ]
    }
   ],
   "source": [
    "print(Y.shape)\n",
    "print(Y_train.shape)\n",
    "print(Y_test.shape)"
   ]
  },
  {
   "cell_type": "code",
   "execution_count": 102,
   "id": "82855f36-efed-4942-ad3b-71edb604618f",
   "metadata": {},
   "outputs": [],
   "source": [
    "feature_extraction = TfidfVectorizer(min_df = 1, stop_words = 'english', lowercase = True )\n",
    "\n",
    "X_train_features = feature_extraction.fit_transform(X_train)\n",
    "X_test_features = feature_extraction.transform(X_test)\n",
    "\n",
    "Y_train = Y_train.astype('int')\n",
    "Y_test = Y_test.astype('int')"
   ]
  },
  {
   "cell_type": "code",
   "execution_count": 103,
   "id": "74e607de-3360-45d3-bb60-92a048861b13",
   "metadata": {},
   "outputs": [
    {
     "name": "stdout",
     "output_type": "stream",
     "text": [
      "5    Subject: meter 7268 nov allocation\\nfyi .\\n- -...\n",
      "0    Subject: vastar resources , inc .\\ngary , prod...\n",
      "4    Subject: emerging small cap\\nto exit all addit...\n",
      "5    Subject: coca cola , mbna america , nascar par...\n",
      "3    Subject: calpine daily gas nomination\\n- calpi...\n",
      "2    Subject: your prescription is ready . . oxwq s...\n",
      "1    Subject: await your response\\ndear partner ,\\n...\n",
      "3    Subject: re : patchs work better then pillz\\nw...\n",
      "Name: content, dtype: object\n"
     ]
    }
   ],
   "source": [
    "print(X_train)"
   ]
  },
  {
   "cell_type": "code",
   "execution_count": 104,
   "id": "4bb699ba-be36-488d-9d10-a6a2642f293e",
   "metadata": {},
   "outputs": [
    {
     "name": "stdout",
     "output_type": "stream",
     "text": [
      "  (0, 627)\t0.03652611792539527\n",
      "  (0, 178)\t0.05050676468365964\n",
      "  (0, 497)\t0.05050676468365964\n",
      "  (0, 424)\t0.05050676468365964\n",
      "  (0, 664)\t0.05050676468365964\n",
      "  (0, 616)\t0.05050676468365964\n",
      "  (0, 395)\t0.0423286105942462\n",
      "  (0, 487)\t0.05050676468365964\n",
      "  (0, 435)\t0.03652611792539527\n",
      "  (0, 441)\t0.15152029405097892\n",
      "  (0, 23)\t0.05050676468365964\n",
      "  (0, 535)\t0.15152029405097892\n",
      "  (0, 107)\t0.10101352936731928\n",
      "  (0, 580)\t0.05050676468365964\n",
      "  (0, 415)\t0.05050676468365964\n",
      "  (0, 67)\t0.05050676468365964\n",
      "  (0, 663)\t0.10101352936731928\n",
      "  (0, 358)\t0.05050676468365964\n",
      "  (0, 157)\t0.05050676468365964\n",
      "  (0, 320)\t0.05050676468365964\n",
      "  (0, 392)\t0.05050676468365964\n",
      "  (0, 111)\t0.10101352936731928\n",
      "  (0, 21)\t0.0423286105942462\n",
      "  (0, 9)\t0.03652611792539527\n",
      "  (0, 53)\t0.05050676468365964\n",
      "  :\t:\n",
      "  (7, 638)\t0.05532814661405703\n",
      "  (7, 383)\t0.11065629322811406\n",
      "  (7, 635)\t0.05532814661405703\n",
      "  (7, 170)\t0.05532814661405703\n",
      "  (7, 222)\t0.05532814661405703\n",
      "  (7, 408)\t0.05532814661405703\n",
      "  (7, 256)\t0.05532814661405703\n",
      "  (7, 434)\t0.11065629322811406\n",
      "  (7, 622)\t0.05532814661405703\n",
      "  (7, 126)\t0.1659844398421711\n",
      "  (7, 228)\t0.05532814661405703\n",
      "  (7, 675)\t0.05532814661405703\n",
      "  (7, 484)\t0.05532814661405703\n",
      "  (7, 672)\t0.11065629322811406\n",
      "  (7, 476)\t0.05532814661405703\n",
      "  (7, 142)\t0.04636930493561137\n",
      "  (7, 116)\t0.04636930493561137\n",
      "  (7, 239)\t0.04636930493561137\n",
      "  (7, 43)\t0.13910791480683413\n",
      "  (7, 39)\t0.09273860987122275\n",
      "  (7, 25)\t0.04001290560732415\n",
      "  (7, 28)\t0.04001290560732415\n",
      "  (7, 49)\t0.04636930493561137\n",
      "  (7, 2)\t0.04001290560732415\n",
      "  (7, 609)\t0.02209522225043282\n"
     ]
    }
   ],
   "source": [
    "print(X_train_features)"
   ]
  },
  {
   "cell_type": "code",
   "execution_count": 105,
   "id": "8f2ff86c-e857-495e-ba06-dfe21eeda8d2",
   "metadata": {},
   "outputs": [],
   "source": [
    "model = LogisticRegression()"
   ]
  },
  {
   "cell_type": "code",
   "execution_count": 106,
   "id": "5610ba6c-41a5-4b63-92de-33f479c6328f",
   "metadata": {},
   "outputs": [
    {
     "data": {
      "text/plain": [
       "LogisticRegression()"
      ]
     },
     "execution_count": 106,
     "metadata": {},
     "output_type": "execute_result"
    }
   ],
   "source": [
    "model.fit(X_train_features, Y_train)"
   ]
  },
  {
   "cell_type": "code",
   "execution_count": 129,
   "id": "122ae9ad-2cf5-492b-ab3f-fcf36126e207",
   "metadata": {},
   "outputs": [],
   "source": [
    "prediction_on_training_data = model.predict(X_train_features)\n",
    "accuracy_on_training_data = accuracy_score(Y_train, prediction_on_test_data)"
   ]
  },
  {
   "cell_type": "code",
   "execution_count": 131,
   "id": "5218c516-f4f5-4809-9df7-1caef146fa8b",
   "metadata": {},
   "outputs": [
    {
     "ename": "NameError",
     "evalue": "name 'accuracy_on_trining_data' is not defined",
     "output_type": "error",
     "traceback": [
      "\u001b[0;31m---------------------------------------------------------------------------\u001b[0m",
      "\u001b[0;31mNameError\u001b[0m                                 Traceback (most recent call last)",
      "Input \u001b[0;32mIn [131]\u001b[0m, in \u001b[0;36m<cell line: 1>\u001b[0;34m()\u001b[0m\n\u001b[0;32m----> 1\u001b[0m \u001b[38;5;28mprint\u001b[39m(\u001b[38;5;124m'\u001b[39m\u001b[38;5;124mAcc on training data :\u001b[39m\u001b[38;5;124m'\u001b[39m, \u001b[43maccuracy_on_trining_data\u001b[49m)\n",
      "\u001b[0;31mNameError\u001b[0m: name 'accuracy_on_trining_data' is not defined"
     ]
    }
   ],
   "source": [
    "print('Acc on training data :', accuracy_on_trining_data)"
   ]
  },
  {
   "cell_type": "code",
   "execution_count": null,
   "id": "0815ab7a-4944-4671-a469-d50ba3b0923a",
   "metadata": {},
   "outputs": [],
   "source": [
    "prediction_on_test_data = model.predict(X_test_features)\n",
    "accuracy_on_test_data = accuracy_score(Y_test_prediction_on_test_data)"
   ]
  },
  {
   "cell_type": "code",
   "execution_count": null,
   "id": "09775ea1-832a-4ef8-97ce-3f399f5d776e",
   "metadata": {},
   "outputs": [],
   "source": [
    "print('Acc on test data :', accuracy_on_test_data)"
   ]
  },
  {
   "cell_type": "code",
   "execution_count": null,
   "id": "3a8a3c77-0064-4d6a-b7fa-b67126b9907f",
   "metadata": {},
   "outputs": [],
   "source": [
    "input_your_mail = [\"Pay attention to any unfamiliar addresses in your inbox. But just because you don’t know it doesn’t mean it’s a spam email. Here’s the list of red flags in email addressesRandom numbers and letters like ngoctrinh1403@gmail.com.Public email domain, especially if it’s a message from an organization — gmail.com, yahoo.com, etc. Keep in mind that businesses use their own domains.\"]\n",
    "\n",
    "input_data_features = feature_extraction.transform(input_your_mail)\n",
    "\n",
    "prediction = model.predict(input_data_features)\n",
    "\n",
    "print(prediction)\n",
    "\n",
    "if(prediction[0]==1):\n",
    "    print('Ham mail')\n",
    "    \n",
    "else:\n",
    "    print('Spam mail')"
   ]
  },
  {
   "cell_type": "markdown",
   "id": "9674d032",
   "metadata": {
    "id": "9674d032"
   },
   "source": [
    "Step 4."
   ]
  },
  {
   "cell_type": "code",
   "execution_count": null,
   "id": "6b7d78c9",
   "metadata": {
    "id": "6b7d78c9"
   },
   "outputs": [],
   "source": [
    "# Let's see which features (aka columns) the vectorizer created. \n",
    "# They should be all the words that were contained in the training dataset.\n",
    "# TODO\n",
    "\n",
    "\n",
    "# You may be wondering what a machine learning model is tangibly. It is just a collection of numbers. \n",
    "# You can access these numbers known as \"coefficients\" from the coef_ property of the model\n",
    "# We will be looking at coef_[0] which represents the importance of each feature.\n",
    "# What does importance mean in this context?\n",
    "# Some words are more important than others for the model.\n",
    "# It's nothing personal, just that spam emails tend to contain some words more frequently.\n",
    "# This indicates to the model that having that word would make a new email more likely to be spam.\n",
    "# TODO\n",
    "\n",
    "\n",
    "# Iterate over importance and find the top 10 positive features with the largest magnitude.\n",
    "# Similarly, find the top 10 negative features with the largest magnitude.\n",
    "# Positive features correspond to spam. Negative features correspond to ham.\n",
    "# You will see that `http` is the strongest feature that corresponds to spam emails. \n",
    "# It makes sense. Spam emails often want you to click on a link.\n",
    "# TODO\n",
    "\n"
   ]
  },
  {
   "cell_type": "markdown",
   "id": "d267e7ad",
   "metadata": {
    "id": "d267e7ad"
   },
   "source": [
    "Submission\n",
    "1. Upload the jupyter notebook to Forage."
   ]
  },
  {
   "cell_type": "markdown",
   "id": "LI4u_ZUGToDQ",
   "metadata": {
    "id": "LI4u_ZUGToDQ"
   },
   "source": [
    "All Done!"
   ]
  }
 ],
 "metadata": {
  "colab": {
   "collapsed_sections": [],
   "name": "task3.ipynb",
   "provenance": []
  },
  "kernelspec": {
   "display_name": "anaconda-2022.05-py39",
   "language": "python",
   "name": "conda-env-anaconda-2022.05-py39-py"
  },
  "language_info": {
   "codemirror_mode": {
    "name": "ipython",
    "version": 3
   },
   "file_extension": ".py",
   "mimetype": "text/x-python",
   "name": "python",
   "nbconvert_exporter": "python",
   "pygments_lexer": "ipython3",
   "version": "3.9.12"
  }
 },
 "nbformat": 4,
 "nbformat_minor": 5
}
